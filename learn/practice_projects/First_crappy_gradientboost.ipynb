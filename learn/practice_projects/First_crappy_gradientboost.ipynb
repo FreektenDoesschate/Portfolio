{
 "cells": [
  {
   "cell_type": "code",
   "execution_count": 73,
   "id": "fe40c076-7a1a-436c-9457-f45577d7822f",
   "metadata": {},
   "outputs": [],
   "source": [
    "import numpy as np\n",
    "import pandas as pd\n",
    "import matplotlib.pyplot as plt\n",
    "import seaborn as sns\n",
    "from sklearn import preprocessing\n",
    "from sklearn.model_selection import train_test_split\n",
    "from sklearn.model_selection import GridSearchCV\n",
    "from sklearn.model_selection import KFold\n",
    "import xgboost as xgb\n",
    "\n",
    "pd.set_option('display.max_rows', 20)\n",
    "#pd.set_option('display.max_columns', None)\n",
    "#pd.set_option('display.width', None)\n",
    "#pd.set_option('display.max_colwidth', None)"
   ]
  },
  {
   "cell_type": "code",
   "execution_count": 74,
   "id": "78188d0d-4355-4d9d-b50d-bb1490dd497b",
   "metadata": {},
   "outputs": [],
   "source": [
    "df1 = pd.read_spss('/Users/freektendoesschate/Desktop/PIVECT/PIVECT_test.sav')\n",
    "\n",
    "df1 = df1.rename(columns={'ECTdiagn8': 'ECTDiagn8'}) # change inconsistent variable name"
   ]
  },
  {
   "cell_type": "code",
   "execution_count": 75,
   "id": "f607070b-aaa6-4012-8d58-e81778e5148d",
   "metadata": {},
   "outputs": [],
   "source": [
    "df2 = pd.read_spss('/Users/freektendoesschate/Desktop/PIVECT/PIVECT_train.sav')"
   ]
  },
  {
   "cell_type": "code",
   "execution_count": 76,
   "id": "2399c4ab-8297-40bd-a74f-c0facbed9362",
   "metadata": {},
   "outputs": [],
   "source": [
    "frames = [df1, df2]\n",
    "df = pd.concat(frames) # concatenate both dataframes\n",
    "\n",
    "df.ID = df.ID.astype(int) # Change ID to int\n",
    "\n",
    "df = df.set_index('ID') # set ID as index\n",
    "\n",
    "df = df.sort_index() # sort df by index"
   ]
  },
  {
   "cell_type": "code",
   "execution_count": 77,
   "id": "00c0574b-ca5d-4fba-a52c-c5132702cf63",
   "metadata": {},
   "outputs": [
    {
     "name": "stdout",
     "output_type": "stream",
     "text": [
      "ECTDiagn8\n",
      "MedANES\n",
      "Etomidate\n"
     ]
    }
   ],
   "source": [
    "for f in df.columns:\n",
    "    if df[f].dtype=='object':\n",
    "        print(f)\n",
    "        lbl = preprocessing.LabelEncoder()\n",
    "        lbl.fit(list(df[f].values))\n",
    "        df[f] = lbl.transform(list(df[f].values))"
   ]
  },
  {
   "cell_type": "code",
   "execution_count": 78,
   "id": "a514fa40-ecba-4fb5-a5e8-5396d9530f8a",
   "metadata": {},
   "outputs": [
    {
     "name": "stdout",
     "output_type": "stream",
     "text": [
      "ECTDiagn1\n",
      "ECTDiagn2\n",
      "ECTDiagn3\n",
      "ECTDiagn7\n",
      "PrePsyF\n",
      "PreCatF\n",
      "ComorPSY\n",
      "ComorSOM\n",
      "CVA\n",
      "Dementia\n",
      "Parkinson\n",
      "Intoxications\n",
      "Nicotine\n",
      "Alcohol\n",
      "Drugs\n",
      "MRIabnorm\n",
      "MRIatrof\n",
      "MRIischem\n",
      "MRIwhite\n",
      "PsychoMed\n",
      "MedDEPRES2\n",
      "SNRI\n",
      "SSRI\n",
      "TCA\n",
      "MedMOOD2\n",
      "MedAPSY2\n",
      "Haloperidol\n",
      "Quetiapine\n",
      "Olanzapine\n",
      "Clozapine\n",
      "Risperidon\n",
      "MedBENZ\n",
      "MedCONV2\n",
      "MedCHOL2\n",
      "Promethazine\n",
      "MedOpi\n",
      "Polyfarm\n",
      "Succi\n",
      "MedPRE3\n",
      "MedPRE4\n",
      "Pulsewi050\n",
      "Pulsewi1.0\n",
      "Dosetitration\n",
      "Halfage\n",
      "PastTitr\n",
      "Bitemporal\n",
      "RUL\n",
      "PreSPIC\n"
     ]
    }
   ],
   "source": [
    "for f in df.columns:\n",
    "    if df[f].dtype=='category':\n",
    "        print(f)\n",
    "        lbl = preprocessing.LabelEncoder()\n",
    "        lbl.fit(list(df[f].values))\n",
    "        df[f] = lbl.transform(list(df[f].values))"
   ]
  },
  {
   "cell_type": "code",
   "execution_count": 79,
   "id": "b28557b2-4adf-4fc7-81d4-e4678fe96bb4",
   "metadata": {},
   "outputs": [],
   "source": [
    "df = df.fillna(-999)"
   ]
  },
  {
   "cell_type": "code",
   "execution_count": 80,
   "id": "4607978c-2379-43bb-afa0-49ca4cd9368e",
   "metadata": {},
   "outputs": [
    {
     "data": {
      "text/plain": [
       "<AxesSubplot:xlabel='Age', ylabel='Density'>"
      ]
     },
     "execution_count": 80,
     "metadata": {},
     "output_type": "execute_result"
    },
    {
     "data": {
      "image/png": "[encoded data removed]",
      "text/plain": [
       "<Figure size 432x288 with 1 Axes>"
      ]
     },
     "metadata": {},
     "output_type": "display_data"
    }
   ],
   "source": [
    "sns.set_style('whitegrid')\n",
    "sns.kdeplot(df.Age, bw_method=0.15) # plot age using seaborn"
   ]
  },
  {
   "cell_type": "code",
   "execution_count": 81,
   "id": "e46c46b2-99a0-47d4-a45d-2085647d71a2",
   "metadata": {},
   "outputs": [
    {
     "data": {
      "text/plain": [
       "Age          0\n",
       "Male         0\n",
       "Female       0\n",
       "ECTDiagn1    0\n",
       "ECTDiagn2    0\n",
       "            ..\n",
       "EMGtotal     0\n",
       "EEGtotal     0\n",
       "MoodBEF2     0\n",
       "CognBEF2     0\n",
       "PreSPIC      0\n",
       "Length: 62, dtype: int64"
      ]
     },
     "execution_count": 81,
     "metadata": {},
     "output_type": "execute_result"
    }
   ],
   "source": [
    "df.isnull().sum() # check number of NaNs per variable"
   ]
  },
  {
   "cell_type": "code",
   "execution_count": 82,
   "id": "8bfaa95e-83a7-415f-a8cc-49bddc52d6a5",
   "metadata": {},
   "outputs": [],
   "source": [
    "## train_test split\n",
    "\n",
    "X = df.drop(columns = ['PreSPIC']).copy()\n",
    "y = df['PreSPIC']\n",
    "X_train, X_test, y_train, y_test = train_test_split(X,y, train_size=0.8)"
   ]
  },
  {
   "cell_type": "code",
   "execution_count": 83,
   "id": "7803ff8c-f1de-4add-a3b9-7a7049b04744",
   "metadata": {},
   "outputs": [
    {
     "data": {
      "text/plain": [
       "Age          float64\n",
       "Male         float64\n",
       "Female       float64\n",
       "ECTDiagn1      int64\n",
       "ECTDiagn2      int64\n",
       "              ...   \n",
       "EMGtotal     float64\n",
       "EEGtotal     float64\n",
       "MoodBEF2     float64\n",
       "CognBEF2     float64\n",
       "PreSPIC        int64\n",
       "Length: 62, dtype: object"
      ]
     },
     "execution_count": 83,
     "metadata": {},
     "output_type": "execute_result"
    }
   ],
   "source": [
    "df.dtypes"
   ]
  },
  {
   "cell_type": "code",
   "execution_count": 84,
   "id": "034776b6-d7a9-4a36-a7ad-1e9e20854429",
   "metadata": {},
   "outputs": [],
   "source": [
    "xgb_model = xgb.XGBClassifier()"
   ]
  },
  {
   "cell_type": "code",
   "execution_count": 93,
   "id": "ad5c212a-3556-43c1-9444-3b5a29c859b3",
   "metadata": {},
   "outputs": [],
   "source": [
    "#from https://www.kaggle.com/phunter/xgboost-with-gridsearchcv\n",
    "\n",
    "#brute force scan for all parameters, here are the tricks\n",
    "#usually max_depth is 6,7,8\n",
    "#learning rate is around 0.05, but small changes may make big diff\n",
    "#tuning min_child_weight subsample colsample_bytree can have \n",
    "#much fun of fighting against overfit \n",
    "#n_estimators is how many round of boosting\n",
    "#finally, ensemble xgboost with multiple seeds may reduce variance\n",
    "parameters = {'nthread':[4], #when use hyperthread, xgboost may become slower\n",
    "              'objective':['binary:logistic'],\n",
    "              'learning_rate': [0.001], #so called `eta` value\n",
    "              'max_depth': [4,5,6,7,8],\n",
    "              'min_child_weight': [11],\n",
    "              'silent': [1],\n",
    "              'subsample': [0.8],\n",
    "              'colsample_bytree': [0.7],\n",
    "              'n_estimators': [1000], #number of trees, change it to 1000 for better results\n",
    "              'missing':[-999],\n",
    "              'use_label_encoder':[False],\n",
    "              'seed': [1337],\n",
    "              'verbosity': [0]}"
   ]
  },
  {
   "cell_type": "code",
   "execution_count": 94,
   "id": "bfbf85d9-6397-49d0-a0e6-5108c75fc5f8",
   "metadata": {},
   "outputs": [],
   "source": [
    "clf = GridSearchCV(xgb_model, parameters, n_jobs=5, \n",
    "                   cv=None, \n",
    "                   scoring='roc_auc', refit=True)"
   ]
  },
  {
   "cell_type": "code",
   "execution_count": 95,
   "id": "55596267-7157-4554-89b1-353e99004af4",
   "metadata": {},
   "outputs": [
    {
     "data": {
      "text/plain": [
       "GridSearchCV(estimator=XGBClassifier(base_score=None, booster=None,\n",
       "                                     colsample_bylevel=None,\n",
       "                                     colsample_bynode=None,\n",
       "                                     colsample_bytree=None, gamma=None,\n",
       "                                     gpu_id=None, importance_type='gain',\n",
       "                                     interaction_constraints=None,\n",
       "                                     learning_rate=None, max_delta_step=None,\n",
       "                                     max_depth=None, min_child_weight=None,\n",
       "                                     missing=nan, monotone_constraints=None,\n",
       "                                     n_estimators=100, n_jobs=None...\n",
       "                                     tree_method=None, validate_parameters=None,\n",
       "                                     verbosity=None),\n",
       "             n_jobs=5,\n",
       "             param_grid={'colsample_bytree': [0.7], 'learning_rate': [0.001],\n",
       "                         'max_depth': [4, 5, 6, 7, 8], 'min_child_weight': [11],\n",
       "                         'missing': [-999], 'n_estimators': [1000],\n",
       "                         'nthread': [4], 'objective': ['binary:logistic'],\n",
       "                         'seed': [1337], 'silent': [1], 'subsample': [0.8],\n",
       "                         'use_label_encoder': [False], 'verbosity': [0]},\n",
       "             scoring='roc_auc')"
      ]
     },
     "execution_count": 95,
     "metadata": {},
     "output_type": "execute_result"
    }
   ],
   "source": [
    "clf.fit(X_train, y_train)"
   ]
  },
  {
   "cell_type": "code",
   "execution_count": 96,
   "id": "9a5a2ad9-7405-4385-9a1e-66cfd9ef3993",
   "metadata": {},
   "outputs": [
    {
     "data": {
      "text/plain": [
       "XGBClassifier(base_score=0.5, booster='gbtree', colsample_bylevel=1,\n",
       "              colsample_bynode=1, colsample_bytree=0.7, gamma=0, gpu_id=-1,\n",
       "              importance_type='gain', interaction_constraints='',\n",
       "              learning_rate=0.001, max_delta_step=0, max_depth=4,\n",
       "              min_child_weight=11, missing=-999, monotone_constraints='()',\n",
       "              n_estimators=1000, n_jobs=4, nthread=4, num_parallel_tree=1,\n",
       "              random_state=1337, reg_alpha=0, reg_lambda=1, scale_pos_weight=1,\n",
       "              seed=1337, silent=1, subsample=0.8, tree_method='exact',\n",
       "              use_label_encoder=False, validate_parameters=1, verbosity=0)"
      ]
     },
     "execution_count": 96,
     "metadata": {},
     "output_type": "execute_result"
    }
   ],
   "source": [
    "clf.best_estimator_"
   ]
  },
  {
   "cell_type": "code",
   "execution_count": 97,
   "id": "1f4b1ae7-639e-40db-a5b5-456fab4bc538",
   "metadata": {},
   "outputs": [
    {
     "data": {
      "text/plain": [
       "0.5702457002457002"
      ]
     },
     "execution_count": 97,
     "metadata": {},
     "output_type": "execute_result"
    }
   ],
   "source": [
    "clf.best_score_"
   ]
  },
  {
   "cell_type": "code",
   "execution_count": 98,
   "id": "10b5a1ce-c875-4422-b10f-7856a7548851",
   "metadata": {},
   "outputs": [
    {
     "data": {
      "text/plain": [
       "{'mean_fit_time': array([1.11182146, 1.11714511, 1.1247108 , 1.03561769, 1.31116357]),\n",
       " 'std_fit_time': array([0.0501174 , 0.05746439, 0.06233878, 0.05020052, 0.05502277]),\n",
       " 'mean_score_time': array([0.00269623, 0.00291376, 0.00241294, 0.0024713 , 0.00237584]),\n",
       " 'std_score_time': array([3.07398443e-04, 9.00688813e-04, 6.13551765e-05, 9.92605697e-05,\n",
       "        6.12844279e-05]),\n",
       " 'param_colsample_bytree': masked_array(data=[0.7, 0.7, 0.7, 0.7, 0.7],\n",
       "              mask=[False, False, False, False, False],\n",
       "        fill_value='?',\n",
       "             dtype=object),\n",
       " 'param_learning_rate': masked_array(data=[0.001, 0.001, 0.001, 0.001, 0.001],\n",
       "              mask=[False, False, False, False, False],\n",
       "        fill_value='?',\n",
       "             dtype=object),\n",
       " 'param_max_depth': masked_array(data=[4, 5, 6, 7, 8],\n",
       "              mask=[False, False, False, False, False],\n",
       "        fill_value='?',\n",
       "             dtype=object),\n",
       " 'param_min_child_weight': masked_array(data=[11, 11, 11, 11, 11],\n",
       "              mask=[False, False, False, False, False],\n",
       "        fill_value='?',\n",
       "             dtype=object),\n",
       " 'param_missing': masked_array(data=[-999, -999, -999, -999, -999],\n",
       "              mask=[False, False, False, False, False],\n",
       "        fill_value='?',\n",
       "             dtype=object),\n",
       " 'param_n_estimators': masked_array(data=[1000, 1000, 1000, 1000, 1000],\n",
       "              mask=[False, False, False, False, False],\n",
       "        fill_value='?',\n",
       "             dtype=object),\n",
       " 'param_nthread': masked_array(data=[4, 4, 4, 4, 4],\n",
       "              mask=[False, False, False, False, False],\n",
       "        fill_value='?',\n",
       "             dtype=object),\n",
       " 'param_objective': masked_array(data=['binary:logistic', 'binary:logistic',\n",
       "                    'binary:logistic', 'binary:logistic',\n",
       "                    'binary:logistic'],\n",
       "              mask=[False, False, False, False, False],\n",
       "        fill_value='?',\n",
       "             dtype=object),\n",
       " 'param_seed': masked_array(data=[1337, 1337, 1337, 1337, 1337],\n",
       "              mask=[False, False, False, False, False],\n",
       "        fill_value='?',\n",
       "             dtype=object),\n",
       " 'param_silent': masked_array(data=[1, 1, 1, 1, 1],\n",
       "              mask=[False, False, False, False, False],\n",
       "        fill_value='?',\n",
       "             dtype=object),\n",
       " 'param_subsample': masked_array(data=[0.8, 0.8, 0.8, 0.8, 0.8],\n",
       "              mask=[False, False, False, False, False],\n",
       "        fill_value='?',\n",
       "             dtype=object),\n",
       " 'param_use_label_encoder': masked_array(data=[False, False, False, False, False],\n",
       "              mask=[False, False, False, False, False],\n",
       "        fill_value='?',\n",
       "             dtype=object),\n",
       " 'param_verbosity': masked_array(data=[0, 0, 0, 0, 0],\n",
       "              mask=[False, False, False, False, False],\n",
       "        fill_value='?',\n",
       "             dtype=object),\n",
       " 'params': [{'colsample_bytree': 0.7,\n",
       "   'learning_rate': 0.001,\n",
       "   'max_depth': 4,\n",
       "   'min_child_weight': 11,\n",
       "   'missing': -999,\n",
       "   'n_estimators': 1000,\n",
       "   'nthread': 4,\n",
       "   'objective': 'binary:logistic',\n",
       "   'seed': 1337,\n",
       "   'silent': 1,\n",
       "   'subsample': 0.8,\n",
       "   'use_label_encoder': False,\n",
       "   'verbosity': 0},\n",
       "  {'colsample_bytree': 0.7,\n",
       "   'learning_rate': 0.001,\n",
       "   'max_depth': 5,\n",
       "   'min_child_weight': 11,\n",
       "   'missing': -999,\n",
       "   'n_estimators': 1000,\n",
       "   'nthread': 4,\n",
       "   'objective': 'binary:logistic',\n",
       "   'seed': 1337,\n",
       "   'silent': 1,\n",
       "   'subsample': 0.8,\n",
       "   'use_label_encoder': False,\n",
       "   'verbosity': 0},\n",
       "  {'colsample_bytree': 0.7,\n",
       "   'learning_rate': 0.001,\n",
       "   'max_depth': 6,\n",
       "   'min_child_weight': 11,\n",
       "   'missing': -999,\n",
       "   'n_estimators': 1000,\n",
       "   'nthread': 4,\n",
       "   'objective': 'binary:logistic',\n",
       "   'seed': 1337,\n",
       "   'silent': 1,\n",
       "   'subsample': 0.8,\n",
       "   'use_label_encoder': False,\n",
       "   'verbosity': 0},\n",
       "  {'colsample_bytree': 0.7,\n",
       "   'learning_rate': 0.001,\n",
       "   'max_depth': 7,\n",
       "   'min_child_weight': 11,\n",
       "   'missing': -999,\n",
       "   'n_estimators': 1000,\n",
       "   'nthread': 4,\n",
       "   'objective': 'binary:logistic',\n",
       "   'seed': 1337,\n",
       "   'silent': 1,\n",
       "   'subsample': 0.8,\n",
       "   'use_label_encoder': False,\n",
       "   'verbosity': 0},\n",
       "  {'colsample_bytree': 0.7,\n",
       "   'learning_rate': 0.001,\n",
       "   'max_depth': 8,\n",
       "   'min_child_weight': 11,\n",
       "   'missing': -999,\n",
       "   'n_estimators': 1000,\n",
       "   'nthread': 4,\n",
       "   'objective': 'binary:logistic',\n",
       "   'seed': 1337,\n",
       "   'silent': 1,\n",
       "   'subsample': 0.8,\n",
       "   'use_label_encoder': False,\n",
       "   'verbosity': 0}],\n",
       " 'split0_test_score': array([0.55528256, 0.55528256, 0.55528256, 0.55528256, 0.55528256]),\n",
       " 'split1_test_score': array([0.54594595, 0.54594595, 0.54594595, 0.54594595, 0.54594595]),\n",
       " 'split2_test_score': array([0.59090909, 0.59090909, 0.59090909, 0.59090909, 0.59090909]),\n",
       " 'split3_test_score': array([0.62373737, 0.62373737, 0.62373737, 0.62373737, 0.62373737]),\n",
       " 'split4_test_score': array([0.53535354, 0.53535354, 0.53535354, 0.53535354, 0.53535354]),\n",
       " 'mean_test_score': array([0.5702457, 0.5702457, 0.5702457, 0.5702457, 0.5702457]),\n",
       " 'std_test_score': array([0.03261954, 0.03261954, 0.03261954, 0.03261954, 0.03261954]),\n",
       " 'rank_test_score': array([1, 1, 1, 1, 1], dtype=int32)}"
      ]
     },
     "execution_count": 98,
     "metadata": {},
     "output_type": "execute_result"
    }
   ],
   "source": [
    "clf.cv_results_"
   ]
  },
  {
   "cell_type": "code",
   "execution_count": null,
   "id": "b2560538-412e-4a3d-b945-80a3c687f6b6",
   "metadata": {},
   "outputs": [],
   "source": []
  },
  {
   "cell_type": "code",
   "execution_count": null,
   "id": "932464b9-2d8f-4367-b8a0-fee8f7556b27",
   "metadata": {},
   "outputs": [],
   "source": []
  }
 ],
 "metadata": {
  "kernelspec": {
   "display_name": "Python 3 (ipykernel)",
   "language": "python",
   "name": "python3"
  },
  "language_info": {
   "codemirror_mode": {
    "name": "ipython",
    "version": 3
   },
   "file_extension": ".py",
   "mimetype": "text/x-python",
   "name": "python",
   "nbconvert_exporter": "python",
   "pygments_lexer": "ipython3",
   "version": "3.9.7"
  }
 },
 "nbformat": 4,
 "nbformat_minor": 5
}
